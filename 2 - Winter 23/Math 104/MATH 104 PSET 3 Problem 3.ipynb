{
 "cells": [
  {
   "cell_type": "code",
   "execution_count": 2,
   "id": "411c3e45-99f3-41c7-a81c-fa3fb0f8bf8b",
   "metadata": {},
   "outputs": [],
   "source": [
    "import numpy as np"
   ]
  },
  {
   "cell_type": "code",
   "execution_count": 3,
   "id": "cbcd74b1-1ddc-496e-82bd-eb721b36a762",
   "metadata": {},
   "outputs": [],
   "source": [
    "A = np.array([[2, 1, 3], [4, -6, -2], [-2, 7, 5]])"
   ]
  },
  {
   "cell_type": "code",
   "execution_count": 5,
   "id": "ae6b0bfa-9737-4639-8f7b-501cef1e4e98",
   "metadata": {},
   "outputs": [],
   "source": [
    "b = np.array([1, 1, 0])"
   ]
  },
  {
   "cell_type": "code",
   "execution_count": 8,
   "id": "a09d8ada-aadc-4028-a5c9-b690e1a1dd79",
   "metadata": {},
   "outputs": [],
   "source": [
    "U, Sigma, Vt = np.linalg.svd(A)\n",
    "V = Vt.T"
   ]
  },
  {
   "cell_type": "code",
   "execution_count": 19,
   "id": "a3ce3af1-225b-4737-b13c-26f8554f1f70",
   "metadata": {},
   "outputs": [],
   "source": []
  },
  {
   "cell_type": "code",
   "execution_count": 21,
   "id": "8aba1990-8adf-45c5-99ea-2492f3f625ff",
   "metadata": {},
   "outputs": [
    {
     "data": {
      "text/plain": [
       "array([[ 0.14018727,  0.80437193, -0.57735027],\n",
       "       [-0.62651289,  0.5235917 ,  0.57735027],\n",
       "       [ 0.76670016,  0.28078023,  0.57735027]])"
      ]
     },
     "execution_count": 21,
     "metadata": {},
     "output_type": "execute_result"
    }
   ],
   "source": [
    "U"
   ]
  },
  {
   "cell_type": "code",
   "execution_count": 79,
   "id": "3519690e-04bf-44f4-b917-51c32eaf0dff",
   "metadata": {},
   "outputs": [
    {
     "name": "stdout",
     "output_type": "stream",
     "text": [
      "basis\n",
      "vec >>  [0.14018727 0.62651289 0.76670016]\n",
      "[ 0.14018727 -0.62651289  0.76670016]\n",
      "U >>  [ 0.01965247 -0.08782913  0.1074816 ]\n",
      "vec >>  [0.15983973 0.53868376 0.87418175]\n",
      "[0.80437193 0.5235917  0.28078023]\n",
      "U >>  [0.6470142  0.42116246 0.22585174]\n",
      "vec >>  [0.80685393 0.95984622 1.10003349]\n",
      "[-0.57735027  0.57735027  0.57735027]\n",
      "U >>  [ 0.33333333 -0.33333333 -0.33333333]\n",
      "final vec >>  [1.14018727 0.62651289 0.76670016]\n",
      "\n",
      "basis\n",
      "vec >>  [1.14018727 0.62651289 0.76670016]\n",
      "[ 0.14018727 -0.62651289  0.76670016]\n",
      "U >>  [-0.08782913  0.3925184  -0.48034753]\n",
      "vec >>  [1.05235814 1.01903129 0.28635262]\n",
      "[0.80437193 0.5235917  0.28078023]\n",
      "U >>  [0.42116246 0.27414826 0.1470142 ]\n",
      "vec >>  [1.4735206  1.29317956 0.43336682]\n",
      "[-0.57735027  0.57735027  0.57735027]\n",
      "U >>  [-0.33333333  0.33333333  0.33333333]\n",
      "final vec >>  [1.14018727 1.62651289 0.76670016]\n",
      "\n",
      "basis\n",
      "vec >>  [1.14018727 1.62651289 0.76670016]\n",
      "[ 0.14018727 -0.62651289  0.76670016]\n",
      "U >>  [ 0.1074816  -0.48034753  0.58782913]\n",
      "vec >>  [1.24766886 1.14616536 1.35452928]\n",
      "[0.80437193 0.5235917  0.28078023]\n",
      "U >>  [0.22585174 0.1470142  0.07883754]\n",
      "vec >>  [1.4735206  1.29317956 1.43336682]\n",
      "[-0.57735027  0.57735027  0.57735027]\n",
      "U >>  [-0.33333333  0.33333333  0.33333333]\n",
      "final vec >>  [1.14018727 1.62651289 1.76670016]\n",
      "\n",
      "[[1.14018727 1.14018727 1.14018727]\n",
      " [0.62651289 1.62651289 1.62651289]\n",
      " [0.76670016 0.76670016 1.76670016]]\n"
     ]
    }
   ],
   "source": [
    "Proj = np.empty((U.shape[1], U.shape[1]))\n",
    "\n",
    "for e in range(U.shape[1]):\n",
    "    vec = np.empty(U.shape[1])\n",
    "    basis = np.zeros(U.shape[1])\n",
    "    basis[e] = 1\n",
    "    print(\"basis\")\n",
    "    for i in range(U.shape[1]):\n",
    "        print(\"vec >> \", vec)\n",
    "        print(U[:, i])\n",
    "        vec = np.add(vec, (U[:, i].T @ basis) * U[:, i])\n",
    "        print(\"U >> \", (U[:, i].T @ basis) * U[:, i])\n",
    "    print(\"final vec >> \", vec)\n",
    "    print()\n",
    "    Proj[:, e] = vec\n",
    "    \n",
    "print(Proj)"
   ]
  },
  {
   "cell_type": "code",
   "execution_count": 80,
   "id": "046d446f-1bf2-46b3-9a43-93a27de61cf1",
   "metadata": {},
   "outputs": [
    {
     "data": {
      "text/plain": [
       "array([2.28037453, 2.25302578, 1.53340031])"
      ]
     },
     "execution_count": 80,
     "metadata": {},
     "output_type": "execute_result"
    }
   ],
   "source": [
    "Proj @ b"
   ]
  },
  {
   "cell_type": "code",
   "execution_count": 81,
   "id": "dbab055e-4b6f-4a3f-be8a-3275135d9d85",
   "metadata": {},
   "outputs": [
    {
     "name": "stdout",
     "output_type": "stream",
     "text": [
      "[[ 1.00000000e+00  8.42200963e-17  9.28077013e-17]\n",
      " [ 1.60891979e-16  1.00000000e+00 -8.42200963e-17]\n",
      " [ 2.94613014e-18 -2.87089451e-17  1.00000000e+00]]\n"
     ]
    }
   ],
   "source": [
    "P = U @ np.linalg.inv(U.T @ U) @ U.T\n",
    "print(P)"
   ]
  },
  {
   "cell_type": "code",
   "execution_count": 85,
   "id": "a1f108ad-a233-4322-a267-a27d5215904a",
   "metadata": {},
   "outputs": [
    {
     "data": {
      "text/plain": [
       "array([1, 1, 0])"
      ]
     },
     "execution_count": 85,
     "metadata": {},
     "output_type": "execute_result"
    }
   ],
   "source": [
    "b"
   ]
  },
  {
   "cell_type": "code",
   "execution_count": 84,
   "id": "fab2ac50-a231-481a-9bca-68ee2cfab01e",
   "metadata": {},
   "outputs": [
    {
     "data": {
      "text/plain": [
       "array([ 1.00000000e+00,  1.00000000e+00, -2.57628149e-17])"
      ]
     },
     "execution_count": 84,
     "metadata": {},
     "output_type": "execute_result"
    }
   ],
   "source": [
    "P@b"
   ]
  }
 ],
 "metadata": {
  "kernelspec": {
   "display_name": "Python 3 (ipykernel)",
   "language": "python",
   "name": "python3"
  },
  "language_info": {
   "codemirror_mode": {
    "name": "ipython",
    "version": 3
   },
   "file_extension": ".py",
   "mimetype": "text/x-python",
   "name": "python",
   "nbconvert_exporter": "python",
   "pygments_lexer": "ipython3",
   "version": "3.10.8"
  }
 },
 "nbformat": 4,
 "nbformat_minor": 5
}
