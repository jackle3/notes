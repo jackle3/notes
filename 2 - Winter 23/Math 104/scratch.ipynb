{
 "cells": [
  {
   "cell_type": "code",
   "execution_count": 32,
   "id": "946c3b48-8082-4b95-8cd2-9f0dee79c8ca",
   "metadata": {},
   "outputs": [],
   "source": [
    "using LinearAlgebra"
   ]
  },
  {
   "cell_type": "code",
   "execution_count": 77,
   "id": "49cb85b6-53c5-4130-8025-a104434254c3",
   "metadata": {},
   "outputs": [
    {
     "data": {
      "text/plain": [
       "3×2 Matrix{Int64}:\n",
       " 1  1\n",
       " 1  0\n",
       " 0  1"
      ]
     },
     "execution_count": 77,
     "metadata": {},
     "output_type": "execute_result"
    }
   ],
   "source": [
    "A = [1 1; 1 0; 0 1]"
   ]
  },
  {
   "cell_type": "code",
   "execution_count": 78,
   "id": "080e5623-9ba0-4a3d-b9e3-cc3582b71458",
   "metadata": {},
   "outputs": [
    {
     "data": {
      "text/plain": [
       "3×3 Matrix{Float64}:\n",
       " 0.666667   0.333333   0.333333\n",
       " 0.333333   0.666667  -0.333333\n",
       " 0.333333  -0.333333   0.666667"
      ]
     },
     "execution_count": 78,
     "metadata": {},
     "output_type": "execute_result"
    }
   ],
   "source": [
    "P = A * inv(A'A) * A'"
   ]
  },
  {
   "cell_type": "code",
   "execution_count": 79,
   "id": "5071b130-c935-4b02-94b8-f9e1ffe60992",
   "metadata": {},
   "outputs": [
    {
     "data": {
      "text/plain": [
       "2.0"
      ]
     },
     "execution_count": 79,
     "metadata": {},
     "output_type": "execute_result"
    }
   ],
   "source": [
    "tr(P)"
   ]
  },
  {
   "cell_type": "code",
   "execution_count": 80,
   "id": "c82c9ea7-cba0-492e-8e15-dbe5ee47cbcd",
   "metadata": {},
   "outputs": [
    {
     "data": {
      "text/plain": [
       "2×2 Matrix{Int64}:\n",
       " 1  2\n",
       " 3  4"
      ]
     },
     "execution_count": 80,
     "metadata": {},
     "output_type": "execute_result"
    }
   ],
   "source": [
    "A = [1 2; 3 4]"
   ]
  },
  {
   "cell_type": "code",
   "execution_count": 81,
   "id": "ae766548-2db8-4dc3-bb76-dd00485139cd",
   "metadata": {},
   "outputs": [
    {
     "data": {
      "text/plain": [
       "5"
      ]
     },
     "execution_count": 81,
     "metadata": {},
     "output_type": "execute_result"
    }
   ],
   "source": [
    "tr(A)"
   ]
  },
  {
   "cell_type": "code",
   "execution_count": 82,
   "id": "09b36d38-b628-4809-a663-58a744cac5c0",
   "metadata": {},
   "outputs": [
    {
     "data": {
      "text/plain": [
       "3-element Vector{Int64}:\n",
       " 1\n",
       " 0\n",
       " 1"
      ]
     },
     "execution_count": 82,
     "metadata": {},
     "output_type": "execute_result"
    }
   ],
   "source": [
    "w1 = [1, 1, 0]\n",
    "w2 = [1, 0, 1]"
   ]
  },
  {
   "cell_type": "code",
   "execution_count": 83,
   "id": "912f96e7-6512-48f8-a7fd-61115c8fde18",
   "metadata": {},
   "outputs": [
    {
     "data": {
      "text/plain": [
       "3-element Vector{Float64}:\n",
       "  0.5\n",
       " -0.5\n",
       "  1.0"
      ]
     },
     "execution_count": 83,
     "metadata": {},
     "output_type": "execute_result"
    }
   ],
   "source": [
    "w2_ort = w2 - ((w2'w1)/(w1'w1)) * w1"
   ]
  },
  {
   "cell_type": "code",
   "execution_count": 84,
   "id": "8561e2cb-e486-4f54-a439-b07e7807071e",
   "metadata": {},
   "outputs": [
    {
     "data": {
      "text/plain": [
       "0.0"
      ]
     },
     "execution_count": 84,
     "metadata": {},
     "output_type": "execute_result"
    }
   ],
   "source": [
    "w2_ort'w1"
   ]
  },
  {
   "cell_type": "code",
   "execution_count": 85,
   "id": "44da9d32-d282-43ca-a365-d885b9b3919e",
   "metadata": {},
   "outputs": [
    {
     "data": {
      "text/plain": [
       "3-element Vector{Float64}:\n",
       "  0.4082482904638631\n",
       " -0.4082482904638631\n",
       "  0.8164965809277261"
      ]
     },
     "execution_count": 85,
     "metadata": {},
     "output_type": "execute_result"
    }
   ],
   "source": [
    "w2_ort = w2_ort / sqrt(w2_ort'w2_ort)"
   ]
  },
  {
   "cell_type": "code",
   "execution_count": 86,
   "id": "12c5ddef-9027-4cdb-8414-88ead5125b48",
   "metadata": {},
   "outputs": [
    {
     "data": {
      "text/plain": [
       "3-element Vector{Float64}:\n",
       " 0.7071067811865475\n",
       " 0.7071067811865475\n",
       " 0.0"
      ]
     },
     "execution_count": 86,
     "metadata": {},
     "output_type": "execute_result"
    }
   ],
   "source": [
    "w1 = w1 / sqrt(w1'w1)"
   ]
  },
  {
   "cell_type": "code",
   "execution_count": 87,
   "id": "337e83f5-fccc-4a4d-91d7-3cb48b3e3c00",
   "metadata": {},
   "outputs": [
    {
     "data": {
      "text/plain": [
       "3×2 Matrix{Float64}:\n",
       " 0.707107   0.408248\n",
       " 0.707107  -0.408248\n",
       " 0.0        0.816497"
      ]
     },
     "execution_count": 87,
     "metadata": {},
     "output_type": "execute_result"
    }
   ],
   "source": [
    "W = reduce(hcat, (w1, w2_ort))"
   ]
  },
  {
   "cell_type": "code",
   "execution_count": 88,
   "id": "9bd779eb-6d48-414d-9d5b-52081c8343b1",
   "metadata": {},
   "outputs": [
    {
     "data": {
      "text/plain": [
       "3×3 Matrix{Float64}:\n",
       " 0.666667   0.333333   0.333333\n",
       " 0.333333   0.666667  -0.333333\n",
       " 0.333333  -0.333333   0.666667"
      ]
     },
     "execution_count": 88,
     "metadata": {},
     "output_type": "execute_result"
    }
   ],
   "source": [
    "W * [1 0; 0 1] * W'"
   ]
  },
  {
   "cell_type": "code",
   "execution_count": 55,
   "id": "49214c53-acfc-491c-83d9-c95e5cdf83ac",
   "metadata": {},
   "outputs": [
    {
     "data": {
      "text/plain": [
       "SVD{Float64, Float64, Matrix{Float64}, Vector{Float64}}\n",
       "U factor:\n",
       "3×3 Matrix{Float64}:\n",
       " -1.49723e-17  -0.816497  -0.57735\n",
       " -0.707107     -0.408248   0.57735\n",
       "  0.707107     -0.408248   0.57735\n",
       "singular values:\n",
       "3-element Vector{Float64}:\n",
       " 0.9999999999999999\n",
       " 0.9999999999999999\n",
       " 2.2662332591841973e-17\n",
       "Vt factor:\n",
       "3×3 Matrix{Float64}:\n",
       " -1.7159e-17  -0.707107   0.707107\n",
       " -0.816497    -0.408248  -0.408248\n",
       "  0.57735     -0.57735   -0.57735"
      ]
     },
     "execution_count": 55,
     "metadata": {},
     "output_type": "execute_result"
    }
   ],
   "source": [
    "svd(P)"
   ]
  },
  {
   "cell_type": "markdown",
   "id": "55f7e60b-d0fe-46e3-9838-428c1e8aaeff",
   "metadata": {},
   "source": [
    "# Q2"
   ]
  },
  {
   "cell_type": "code",
   "execution_count": 97,
   "id": "ab5d36aa-f0ee-4db0-8db9-dd5b66cd481c",
   "metadata": {},
   "outputs": [
    {
     "data": {
      "text/plain": [
       "4×4 Matrix{Float64}:\n",
       " 0.5   0.5   0.707107   0.0\n",
       " 0.5   0.5  -0.707107   0.0\n",
       " 0.5  -0.5   0.0        0.707107\n",
       " 0.5  -0.5   0.0       -0.707107"
      ]
     },
     "execution_count": 97,
     "metadata": {},
     "output_type": "execute_result"
    }
   ],
   "source": [
    "U = [1/2 1/2 1/sqrt(2) 0 ; 1/2 1/2 -1/sqrt(2) 0 ; 1/2 -1/2 0 1/sqrt(2) ; 1/2 -1/2 0 -1/sqrt(2)]"
   ]
  },
  {
   "cell_type": "code",
   "execution_count": 98,
   "id": "c63f2b33-6361-46b1-8083-a09fee4381e1",
   "metadata": {},
   "outputs": [
    {
     "data": {
      "text/plain": [
       "4×4 Matrix{Int64}:\n",
       " 8  0  0  0\n",
       " 0  6  0  0\n",
       " 0  0  3  0\n",
       " 0  0  0  2"
      ]
     },
     "execution_count": 98,
     "metadata": {},
     "output_type": "execute_result"
    }
   ],
   "source": [
    "S_A = [8 0 0 0;0 6 0 0; 0 0 3 0; 0 0 0 2]"
   ]
  },
  {
   "cell_type": "code",
   "execution_count": 99,
   "id": "0fa9080d-d398-4a15-822f-2adb75e7777c",
   "metadata": {},
   "outputs": [
    {
     "data": {
      "text/plain": [
       "4×4 Matrix{Float64}:\n",
       " 0.5        0.5        0.5        0.5\n",
       " 0.5       -0.5        0.5       -0.5\n",
       " 0.707107   0.0       -0.707107   0.0\n",
       " 0.0        0.707107   0.0        0.707107"
      ]
     },
     "execution_count": 99,
     "metadata": {},
     "output_type": "execute_result"
    }
   ],
   "source": [
    "V_t = [1/2 1/2 1/2 1/2; 1/2 -1/2 1/2 -1/2; 1/sqrt(2) 0 -1/sqrt(2) 0; 0 1/sqrt(2) 0 1/sqrt(2)]"
   ]
  },
  {
   "cell_type": "code",
   "execution_count": 100,
   "id": "fba7e9ef-c8c6-4f35-9241-904caff083d3",
   "metadata": {},
   "outputs": [
    {
     "data": {
      "text/plain": [
       "4×4 Matrix{Float64}:\n",
       " 5.0  0.5  2.0  0.5\n",
       " 2.0  0.5  5.0  0.5\n",
       " 0.5  4.5  0.5  4.5\n",
       " 0.5  2.5  0.5  2.5"
      ]
     },
     "execution_count": 100,
     "metadata": {},
     "output_type": "execute_result"
    }
   ],
   "source": [
    "A = U * S_A * V_t"
   ]
  },
  {
   "cell_type": "code",
   "execution_count": 131,
   "id": "3496b74e-b4ed-43a6-af22-3e600e9e735a",
   "metadata": {},
   "outputs": [
    {
     "data": {
      "text/plain": [
       "4×4 Matrix{Int64}:\n",
       " 8  0  0  0\n",
       " 0  6  0  0\n",
       " 0  0  3  0\n",
       " 0  0  0  0"
      ]
     },
     "execution_count": 131,
     "metadata": {},
     "output_type": "execute_result"
    }
   ],
   "source": [
    "S_B = [8 0 0 0; 0 6 0 0; 0 0 3 0; 0 0 0 0]"
   ]
  },
  {
   "cell_type": "code",
   "execution_count": 132,
   "id": "b56273a6-bda5-469e-a26f-cfc17661e0ce",
   "metadata": {},
   "outputs": [
    {
     "data": {
      "text/plain": [
       "4×4 Matrix{Float64}:\n",
       " 5.0  0.5  2.0  0.5\n",
       " 2.0  0.5  5.0  0.5\n",
       " 0.5  3.5  0.5  3.5\n",
       " 0.5  3.5  0.5  3.5"
      ]
     },
     "execution_count": 132,
     "metadata": {},
     "output_type": "execute_result"
    }
   ],
   "source": [
    "B = U * S_B * V_t"
   ]
  },
  {
   "cell_type": "code",
   "execution_count": 133,
   "id": "713cd3af-bfc6-46c0-a5b5-932f42948460",
   "metadata": {},
   "outputs": [
    {
     "data": {
      "text/plain": [
       "2.0"
      ]
     },
     "execution_count": 133,
     "metadata": {},
     "output_type": "execute_result"
    }
   ],
   "source": [
    "norm(A - B, 2)"
   ]
  },
  {
   "cell_type": "code",
   "execution_count": 152,
   "id": "323d4037-72f1-4696-b46e-ec592addaeb7",
   "metadata": {},
   "outputs": [
    {
     "data": {
      "text/plain": [
       "4×4 Matrix{Float64}:\n",
       " 0.827321  0.689114  0.167109  1.13838\n",
       " 0.559223  0.512778  0.134914  0.822584\n",
       " 0.507447  0.449673  0.293179  1.31704\n",
       " 0.46475   0.52072   0.26452   1.14798"
      ]
     },
     "execution_count": 152,
     "metadata": {},
     "output_type": "execute_result"
    }
   ],
   "source": [
    "B_test = rand(4, 3) * rand(3, 4)"
   ]
  },
  {
   "cell_type": "code",
   "execution_count": 139,
   "id": "c43a5a77-d5bc-4dc0-a455-89fda71440c4",
   "metadata": {},
   "outputs": [
    {
     "data": {
      "text/plain": [
       "3"
      ]
     },
     "execution_count": 139,
     "metadata": {},
     "output_type": "execute_result"
    }
   ],
   "source": [
    "rank(B_test)"
   ]
  },
  {
   "cell_type": "code",
   "execution_count": 153,
   "id": "e4e685fb-11aa-4d7d-bc5f-faba72e95387",
   "metadata": {},
   "outputs": [
    {
     "data": {
      "text/plain": [
       "8.913168432258106"
      ]
     },
     "execution_count": 153,
     "metadata": {},
     "output_type": "execute_result"
    }
   ],
   "source": [
    "norm(A - B_test, 2)"
   ]
  },
  {
   "cell_type": "code",
   "execution_count": 155,
   "id": "5f7a1143-053a-4ce4-b3b0-9ed2d456ec0b",
   "metadata": {},
   "outputs": [
    {
     "data": {
      "text/plain": [
       "3×3 Matrix{Int64}:\n",
       " 5  0  2\n",
       " 0  5  0\n",
       " 0  0  5"
      ]
     },
     "execution_count": 155,
     "metadata": {},
     "output_type": "execute_result"
    }
   ],
   "source": [
    "A = [5 0 2; 0 5 0; 0 0 5]"
   ]
  },
  {
   "cell_type": "code",
   "execution_count": 158,
   "id": "d6d86bd7-1afe-42d6-b1f0-ce3bec7a7ba2",
   "metadata": {},
   "outputs": [
    {
     "data": {
      "text/plain": [
       "Eigen{Float64, Float64, Matrix{Float64}, Vector{Float64}}\n",
       "values:\n",
       "3-element Vector{Float64}:\n",
       " 5.0\n",
       " 5.0\n",
       " 5.0\n",
       "vectors:\n",
       "3×3 Matrix{Float64}:\n",
       " 1.0  0.0  -1.0\n",
       " 0.0  1.0   0.0\n",
       " 0.0  0.0   5.55112e-16"
      ]
     },
     "execution_count": 158,
     "metadata": {},
     "output_type": "execute_result"
    }
   ],
   "source": [
    "eigen(A)"
   ]
  },
  {
   "cell_type": "code",
   "execution_count": 159,
   "id": "d92f4cca-7022-4282-9842-6fd65d1b9878",
   "metadata": {},
   "outputs": [
    {
     "data": {
      "text/plain": [
       "3×3 Matrix{Int64}:\n",
       " 5  0  2\n",
       " 0  5  0\n",
       " 2  0  5"
      ]
     },
     "execution_count": 159,
     "metadata": {},
     "output_type": "execute_result"
    }
   ],
   "source": [
    "B = [5 0 2; 0 5 0; 2 0 5]"
   ]
  },
  {
   "cell_type": "code",
   "execution_count": 160,
   "id": "3093a1f5-a418-40f2-89c1-1013646849dd",
   "metadata": {},
   "outputs": [
    {
     "data": {
      "text/plain": [
       "Eigen{Float64, Float64, Matrix{Float64}, Vector{Float64}}\n",
       "values:\n",
       "3-element Vector{Float64}:\n",
       " 3.000000000000002\n",
       " 5.0\n",
       " 7.0\n",
       "vectors:\n",
       "3×3 Matrix{Float64}:\n",
       " -0.707107   0.0  0.707107\n",
       "  0.0       -1.0  0.0\n",
       "  0.707107   0.0  0.707107"
      ]
     },
     "execution_count": 160,
     "metadata": {},
     "output_type": "execute_result"
    }
   ],
   "source": [
    "eigen(B)"
   ]
  },
  {
   "cell_type": "code",
   "execution_count": 161,
   "id": "7ec828e1-9fc8-4657-8f65-8c140cdaee53",
   "metadata": {},
   "outputs": [
    {
     "data": {
      "text/plain": [
       "3×3 Matrix{Int64}:\n",
       " 1  2  4\n",
       " 0  2  2\n",
       " 0  0  3"
      ]
     },
     "execution_count": 161,
     "metadata": {},
     "output_type": "execute_result"
    }
   ],
   "source": [
    "C = [1 2 4; 0 2 2; 0 0 3]"
   ]
  },
  {
   "cell_type": "code",
   "execution_count": 162,
   "id": "c22202d7-f96b-4b0b-9152-a3a250958fe9",
   "metadata": {},
   "outputs": [
    {
     "data": {
      "text/plain": [
       "Eigen{Float64, Float64, Matrix{Float64}, Vector{Float64}}\n",
       "values:\n",
       "3-element Vector{Float64}:\n",
       " 1.0\n",
       " 2.0\n",
       " 3.0\n",
       "vectors:\n",
       "3×3 Matrix{Float64}:\n",
       " 1.0  0.894427  0.872872\n",
       " 0.0  0.447214  0.436436\n",
       " 0.0  0.0       0.218218"
      ]
     },
     "execution_count": 162,
     "metadata": {},
     "output_type": "execute_result"
    }
   ],
   "source": [
    "eigen(C)"
   ]
  },
  {
   "cell_type": "code",
   "execution_count": 163,
   "id": "c9bdf7c1-099c-4abe-9e6a-98b8717badd1",
   "metadata": {},
   "outputs": [
    {
     "data": {
      "text/plain": [
       "3×3 Matrix{Int64}:\n",
       " 1  2  4\n",
       " 0  2  2\n",
       " 0  0  1"
      ]
     },
     "execution_count": 163,
     "metadata": {},
     "output_type": "execute_result"
    }
   ],
   "source": [
    "D = [1 2 4; 0 2 2; 0 0 1]"
   ]
  },
  {
   "cell_type": "code",
   "execution_count": 164,
   "id": "98a1aeb9-08b4-4e28-89ab-cee5800d126f",
   "metadata": {},
   "outputs": [
    {
     "data": {
      "text/plain": [
       "Eigen{Float64, Float64, Matrix{Float64}, Vector{Float64}}\n",
       "values:\n",
       "3-element Vector{Float64}:\n",
       " 1.0\n",
       " 1.0\n",
       " 2.0\n",
       "vectors:\n",
       "3×3 Matrix{Float64}:\n",
       " 1.0   0.0       0.894427\n",
       " 0.0  -0.894427  0.447214\n",
       " 0.0   0.447214  0.0"
      ]
     },
     "execution_count": 164,
     "metadata": {},
     "output_type": "execute_result"
    }
   ],
   "source": [
    "eigen(D)"
   ]
  }
 ],
 "metadata": {
  "kernelspec": {
   "display_name": "Julia 1.8.5",
   "language": "julia",
   "name": "julia-1.8"
  },
  "language_info": {
   "file_extension": ".jl",
   "mimetype": "application/julia",
   "name": "julia",
   "version": "1.8.5"
  }
 },
 "nbformat": 4,
 "nbformat_minor": 5
}
