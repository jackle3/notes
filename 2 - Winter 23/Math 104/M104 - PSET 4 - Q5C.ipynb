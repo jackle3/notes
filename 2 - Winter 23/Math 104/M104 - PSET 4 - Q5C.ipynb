{
 "cells": [
  {
   "cell_type": "markdown",
   "id": "91a107c5",
   "metadata": {},
   "source": [
    "# MATH 104 - PSET 4 - Question 5 Part C\n",
    "## Jack Le - Winter 2023"
   ]
  },
  {
   "cell_type": "code",
   "execution_count": 4,
   "id": "34dabdb2",
   "metadata": {},
   "outputs": [],
   "source": [
    "import numpy as np\n",
    "import time"
   ]
  },
  {
   "cell_type": "markdown",
   "id": "811a8941",
   "metadata": {},
   "source": [
    "## Helper functions to multiply diagonal matrices\n",
    "### Implements it as matrix-vector multiplicaiton"
   ]
  },
  {
   "cell_type": "code",
   "execution_count": 5,
   "id": "a4fa63df",
   "metadata": {},
   "outputs": [],
   "source": [
    "# Used when diagonal matrix is on the left, scales rows\n",
    "def diag_row_mult(diag, A):\n",
    "    res = np.empty(A.shape, float)\n",
    "    for i, row in enumerate(A):\n",
    "        # Scale each row by the corresponding diagonal entry\n",
    "        res[i, :] = row * diag[i]\n",
    "    return res"
   ]
  },
  {
   "cell_type": "code",
   "execution_count": 6,
   "id": "47f7c138",
   "metadata": {},
   "outputs": [],
   "source": [
    "# Used when the diagonal matrix is on the right, scales columns\n",
    "def diag_col_mult(diag, A):\n",
    "    res = np.empty(A.shape, float)\n",
    "    for i in range(A.shape[1]):\n",
    "        # Scale each column by the corresponding diagonal entry\n",
    "        res[:, i] = A[:, i] * diag[i]\n",
    "    return res"
   ]
  },
  {
   "cell_type": "markdown",
   "id": "fc9b8787",
   "metadata": {},
   "source": [
    "## Implementation of Sherman-Morrison-Woodburry Formula\n",
    "\n",
    "$$(D + FF^\\top)^{-1} = D^{-1}-D^{-1}F(I_{10} + F^\\top D^{-1}F)^{-1}F^\\top D^{-1}$$\n",
    "\n",
    "This is specific to a 10000x10000 diagonal matrix D and a 10000x10 matrix F.\n",
    "There will comments on the number of flops for each operation.\n",
    "Flops are floating-point operations, defined as multiplication, addition, subtraction, etc\n",
    "\n",
    "Directly computing inverses will cost about $\\frac{8}{3}n^3$."
   ]
  },
  {
   "cell_type": "code",
   "execution_count": 4,
   "id": "85b52b00",
   "metadata": {},
   "outputs": [],
   "source": [
    "# Computes inverse of D + F @ F.T\n",
    "# D is 10,000 x 10,000. F is 10,000 x 10.\n",
    "# Flops are floating-point operations, defined as multiplication, addition, subtraction, etc\n",
    "def smw_inverse(D, F):\n",
    "    # O(n) to get the n diagonal entries\n",
    "    # 0 flops to read entries\n",
    "    diag = np.diagonal(D)\n",
    "    \n",
    "    # O(n) to reciprocal each entry\n",
    "    # 10,000 flops to reciprocal each diagonal entry\n",
    "    diag_inv = 1/diag \n",
    "    \n",
    "    # O(n^2) to go through every row and scale it by diagonal entry\n",
    "    # There's 100,000 entries in F, each being scaled.\n",
    "    # 100,000 flops to scale every entry in F\n",
    "    # This matrix is now 10,000x10\n",
    "    diag_inv_times_f = diag_row_mult(diag_inv, F) \n",
    "    \n",
    "    # O(n^3) for matrix multiplication\n",
    "    \n",
    "    # For matrix mult, each entry is the dot product of two\n",
    "    # 10,000-vectors. This means 10,000 flops to multiply\n",
    "    # and 10,000 flops to add those together.\n",
    "    # There are 10 * 10 = 100 entries, so the matrix mult\n",
    "    # will require 2,000,000 flops\n",
    "    \n",
    "    # We then sum the two 10x10 matrices, so 100 additional flops\n",
    "    inside = np.identity(10) + F.T @ diag_inv_times_f\n",
    "    # This will cost roughly 8/3 (10)^3 or 2667 flops\n",
    "    inside_inv = np.linalg.inv(inside)\n",
    "    \n",
    "    # O(n^2) to go through every col and scale it by diagonal entry\n",
    "    # There's 100,000 entries in F.T, each being scaled.\n",
    "    # 100,000 flops to scale every entry in columns\n",
    "    # This matrix is now 10x10,000\n",
    "    f_t_times_d_inv = diag_col_mult(diag_inv, F.T)\n",
    "    \n",
    "    # We now want to compute diag_inv_times_f @ inside_inv @ f_t_times_d_inv\n",
    "    # I will break this up to better comment on flops\n",
    "    \n",
    "    # O(n^3) for matrix multiplications\n",
    "    \n",
    "    # This is multiplication between a  10,000x10 and a 10x10 matrix\n",
    "    # Each entry in first_mult is the dot product of two 10-vectors. This thus\n",
    "    # requires 20 flops to compute. There are 10,000 * 10 = 100,000 entries \n",
    "    # in first_mult. Thus, this requires 2,000,000 flops to make first_mult.\n",
    "    first_mult = diag_inv_times_f @ inside_inv\n",
    "    \n",
    "    # This is multiplication between a  10,000x10 and a 10x10000 matrix\n",
    "    # Each entry in right_side is the dot product of two 10-vectors. This thus\n",
    "    # requires 20 flops to compute. There are 10,000 * 10,000 = 100,000,000 entries\n",
    "    # in right_side. Thus, this requires 2,000,000,000 flops to make right_side.\n",
    "    right_side = first_mult @ f_t_times_d_inv\n",
    "    \n",
    "    # O(n) to create zero matrix with diagonal entries\n",
    "    # 0 flops to create matrix and copy entries\n",
    "    D_inv = np.diag(diag_inv) \n",
    "    \n",
    "    # We then subtract the two 10000x10000 matrices, so 100,000,000 additional flops\n",
    "    return D_inv - right_side"
   ]
  },
  {
   "cell_type": "markdown",
   "id": "d72b6061-56fb-4e26-b27f-97c995905c4a",
   "metadata": {},
   "source": [
    "In total, we see that finding the inverse using the Sherman-Morrison-Woodburry formula requires\n",
    "about 2,104,212,767 flops.\n",
    "\n",
    "D + FF^T is a 10000x10000 matrix. Since directly computing inverses will cost about $\\frac{8}{3}n^3$ flops, if we were to directly compute the inverse of D + FF^T, it would cost about $\\frac{8}{3}10000^3$ = 2,666,666,666,667 flops. This is orders of magnitude more than what was required using the Sherman-Morrison-Woodburry formula."
   ]
  },
  {
   "cell_type": "markdown",
   "id": "4a7301f3",
   "metadata": {},
   "source": [
    "# Testing"
   ]
  },
  {
   "cell_type": "code",
   "execution_count": 5,
   "id": "ba4a8796",
   "metadata": {},
   "outputs": [
    {
     "name": "stdout",
     "output_type": "stream",
     "text": [
      "(10000, 10000)\n",
      "[[ 70   0   0 ...   0   0   0]\n",
      " [  0 706   0 ...   0   0   0]\n",
      " [  0   0 730 ...   0   0   0]\n",
      " ...\n",
      " [  0   0   0 ...  73   0   0]\n",
      " [  0   0   0 ...   0 934   0]\n",
      " [  0   0   0 ...   0   0 437]]\n"
     ]
    }
   ],
   "source": [
    "# Create D, our diagonal matrix\n",
    "np.random.seed(104)\n",
    "diag = np.random.randint(1, 1000, 10000)\n",
    "D = np.diag(diag)\n",
    "print(D.shape)\n",
    "print(D)"
   ]
  },
  {
   "cell_type": "code",
   "execution_count": 6,
   "id": "bae4b36c",
   "metadata": {},
   "outputs": [
    {
     "name": "stdout",
     "output_type": "stream",
     "text": [
      "(10000, 10)\n",
      "[[ 15  30 769 ...  17   4 372]\n",
      " [441 867 330 ... 768 950 688]\n",
      " [250 966 849 ... 625 182 279]\n",
      " ...\n",
      " [326 910 709 ... 856 151 968]\n",
      " [280 913 807 ... 221 609 190]\n",
      " [291 599 181 ...  95 118 727]]\n"
     ]
    }
   ],
   "source": [
    "# Create the F matrix\n",
    "np.random.seed(94305)\n",
    "F = np.random.randint(0, 1000, size = (10000, 10))\n",
    "print(F.shape)\n",
    "print(F)"
   ]
  },
  {
   "cell_type": "code",
   "execution_count": 7,
   "id": "3b44c14c",
   "metadata": {},
   "outputs": [
    {
     "name": "stdout",
     "output_type": "stream",
     "text": [
      "--- 0.654 seconds ---\n"
     ]
    }
   ],
   "source": [
    "start_time = time.time()\n",
    "inv_smw = smw_inverse(D, F)\n",
    "print(\"--- %.3f seconds ---\" % (time.time() - start_time))"
   ]
  },
  {
   "cell_type": "code",
   "execution_count": 8,
   "id": "f9aa1dd3",
   "metadata": {},
   "outputs": [
    {
     "name": "stdout",
     "output_type": "stream",
     "text": [
      "--- 10.624 seconds ---\n"
     ]
    }
   ],
   "source": [
    "test_matrix = D + F @ F.T\n",
    "start_time = time.time()\n",
    "inv_T = np.linalg.inv(test_matrix)\n",
    "print(\"--- %.3f seconds ---\" % (time.time() - start_time))"
   ]
  },
  {
   "cell_type": "code",
   "execution_count": 9,
   "id": "3ea1fec1",
   "metadata": {},
   "outputs": [
    {
     "name": "stdout",
     "output_type": "stream",
     "text": [
      "--- All correct : True ---\n"
     ]
    }
   ],
   "source": [
    "# Check if our inverses are correct\n",
    "print(\"--- All correct : %s ---\" % np.allclose(inv_T, inv_smw))"
   ]
  },
  {
   "cell_type": "markdown",
   "id": "7d354f83",
   "metadata": {},
   "source": [
    "# Stress Testing"
   ]
  },
  {
   "cell_type": "code",
   "execution_count": 10,
   "id": "794a07b4",
   "metadata": {},
   "outputs": [],
   "source": [
    "def test_function(cycles):\n",
    "    max_time_smw = max_time_inv = -10e9\n",
    "    min_time_smw = min_time_inv = 10e9\n",
    "    avg_time_smw = avg_time_inv = 0\n",
    "    \n",
    "    correct = True\n",
    "    \n",
    "    for i in range(cycles):\n",
    "        # Create matrices\n",
    "        diag = np.random.randint(1, 1000, 10000)\n",
    "        D = np.diag(diag)\n",
    "        F = np.random.randint(0, 1000, size = (10000, 10))\n",
    "        \n",
    "        # Test SMW\n",
    "        start_time = time.time()\n",
    "        inv_smw = smw_inverse(D, F)\n",
    "        runtime = time.time() - start_time\n",
    "        max_time_smw = max(max_time_smw, runtime)\n",
    "        min_time_smw = min(min_time_smw, runtime)\n",
    "        avg_time_smw += runtime\n",
    "        \n",
    "        # Test actual inverse\n",
    "        test_matrix = D + F @ F.T\n",
    "        start_time = time.time()\n",
    "        inv_T = np.linalg.inv(test_matrix)\n",
    "        runtime = time.time() - start_time\n",
    "        max_time_inv = max(max_time_inv, runtime)\n",
    "        min_time_inv = min(min_time_inv, runtime)\n",
    "        avg_time_inv += runtime\n",
    "        \n",
    "        # Use allclose because of floating point precision\n",
    "        correct &= np.allclose(inv_T, inv_smw)\n",
    "        \n",
    "        if not correct:\n",
    "            print(inv_T)\n",
    "            print(inv_smw)\n",
    "            return\n",
    "\n",
    "    avg_time_inv /= cycles\n",
    "    avg_time_smw /= cycles\n",
    "    \n",
    "    print(\"--- Time for direct inverse ---\")\n",
    "    print(\"--- Average: %.3f seconds ---\" % (avg_time_inv))\n",
    "    print(\"--- Max: %.3f seconds ---\" % (max_time_inv))\n",
    "    print(\"--- Min: %.3f seconds ---\" % (min_time_inv))\n",
    "    \n",
    "    print()\n",
    "        \n",
    "    print(\"--- Time for Sherman-Morrison-Woodbury inverse ---\")\n",
    "    print(\"--- Average: %.3f seconds ---\" % (avg_time_smw))\n",
    "    print(\"--- Max: %.3f seconds ---\" % (max_time_smw))\n",
    "    print(\"--- Min: %.3f seconds ---\" % (min_time_smw))\n",
    "    \n",
    "    print()\n",
    "    \n",
    "    print(\"--- Time difference between direct and SMW inverse ---\")\n",
    "    print(\"--- Average: %.3f seconds ---\" % (avg_time_inv - avg_time_smw))\n",
    "    print(\"--- Max: %.3f seconds ---\" % (max_time_inv - max_time_smw))\n",
    "    print(\"--- Min: %.3f seconds ---\" % (min_time_inv - min_time_smw))\n",
    "    \n",
    "    print()\n",
    "    \n",
    "    print(\"--- How much longer does direct inverse take ---\")\n",
    "    print(\"--- Average fac: %.3f times longer ---\" % (avg_time_inv / avg_time_smw))\n",
    "    print(\"--- Max fac: %.3f times longer ---\" % (min_time_inv / min_time_smw))\n",
    "    print(\"--- Min fac: %.3f times longer ---\" % (max_time_inv / max_time_smw))\n",
    "\n",
    "    print()\n",
    "    \n",
    "    print(\"--- Every inverse is correct: %s ---\" % correct)\n",
    "    "
   ]
  },
  {
   "cell_type": "code",
   "execution_count": 11,
   "id": "2683d90d",
   "metadata": {},
   "outputs": [
    {
     "name": "stdout",
     "output_type": "stream",
     "text": [
      "--- Time for direct inverse ---\n",
      "--- Average: 10.677 seconds ---\n",
      "--- Max: 11.502 seconds ---\n",
      "--- Min: 10.044 seconds ---\n",
      "\n",
      "--- Time for Sherman-Morrison-Woodbury inverse ---\n",
      "--- Average: 0.371 seconds ---\n",
      "--- Max: 0.502 seconds ---\n",
      "--- Min: 0.337 seconds ---\n",
      "\n",
      "--- Time difference between direct and SMW inverse ---\n",
      "--- Average: 10.306 seconds ---\n",
      "--- Max: 10.999 seconds ---\n",
      "--- Min: 9.707 seconds ---\n",
      "\n",
      "--- How much longer does direct inverse take ---\n",
      "--- Average fac: 28.766 times longer ---\n",
      "--- Max fac: 29.793 times longer ---\n",
      "--- Min fac: 22.896 times longer ---\n",
      "\n",
      "--- Every inverse is correct: True ---\n"
     ]
    }
   ],
   "source": [
    "# We run 10 cycles of the test function to account for possible outliers\n",
    "test_function(10)"
   ]
  }
 ],
 "metadata": {
  "kernelspec": {
   "display_name": "Python 3 (ipykernel)",
   "language": "python",
   "name": "python3"
  },
  "language_info": {
   "codemirror_mode": {
    "name": "ipython",
    "version": 3
   },
   "file_extension": ".py",
   "mimetype": "text/x-python",
   "name": "python",
   "nbconvert_exporter": "python",
   "pygments_lexer": "ipython3",
   "version": "3.9.13"
  }
 },
 "nbformat": 4,
 "nbformat_minor": 5
}
