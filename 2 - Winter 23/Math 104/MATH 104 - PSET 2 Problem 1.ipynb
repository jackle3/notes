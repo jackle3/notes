{
 "cells": [
  {
   "cell_type": "code",
   "execution_count": 1,
   "id": "ac150319",
   "metadata": {},
   "outputs": [],
   "source": [
    "import numpy as np\n",
    "np.set_printoptions(precision=1, floatmode=\"fixed\")"
   ]
  },
  {
   "cell_type": "code",
   "execution_count": 2,
   "id": "0cacdce6",
   "metadata": {},
   "outputs": [],
   "source": [
    "def change_bases(A, V, W):\n",
    "    \"\"\"\n",
    "    Returns the representation of A with respect to bases V and W.\n",
    "    A is mxn, V is nxn, and W is mxm.\n",
    "    \"\"\"\n",
    "    W_inv = np.linalg.inv(W)\n",
    "    \n",
    "    # Multiplies mxm by mxn by nxn, gets us our resulting mxn\n",
    "    return W_inv @ A @ V"
   ]
  },
  {
   "cell_type": "code",
   "execution_count": 3,
   "id": "f64fe1fd",
   "metadata": {},
   "outputs": [],
   "source": [
    "mat_a = np.array([[2, 3, 4], [8, 5, 1]])\n",
    "mat_v = np.array([[1, 0, 1], [1, 1, 0], [0, 1, 1]])\n",
    "mat_w = np.array([[2, 3], [1, 1]])"
   ]
  },
  {
   "cell_type": "code",
   "execution_count": 4,
   "id": "a2d2aa7a",
   "metadata": {},
   "outputs": [
    {
     "name": "stdout",
     "output_type": "stream",
     "text": [
      "[[ 34.0  11.0  21.0]\n",
      " [-21.0  -5.0 -12.0]]\n"
     ]
    }
   ],
   "source": [
    "print(change_bases(mat_a, mat_v, mat_w))"
   ]
  }
 ],
 "metadata": {
  "kernelspec": {
   "display_name": "Python 3 (ipykernel)",
   "language": "python",
   "name": "python3"
  },
  "language_info": {
   "codemirror_mode": {
    "name": "ipython",
    "version": 3
   },
   "file_extension": ".py",
   "mimetype": "text/x-python",
   "name": "python",
   "nbconvert_exporter": "python",
   "pygments_lexer": "ipython3",
   "version": "3.9.13"
  }
 },
 "nbformat": 4,
 "nbformat_minor": 5
}
