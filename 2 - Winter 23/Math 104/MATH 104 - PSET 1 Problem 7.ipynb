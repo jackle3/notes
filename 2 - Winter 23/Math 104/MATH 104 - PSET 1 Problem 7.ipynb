{
 "cells": [
  {
   "cell_type": "code",
   "execution_count": 1,
   "id": "69167a1d",
   "metadata": {},
   "outputs": [],
   "source": [
    "import numpy as np\n",
    "np.set_printoptions(precision=2, floatmode=\"fixed\")"
   ]
  },
  {
   "cell_type": "code",
   "execution_count": 2,
   "id": "60fefd2f",
   "metadata": {},
   "outputs": [],
   "source": [
    "def row_swap(mat, permutation):\n",
    "    first_col = mat[:, 0]\n",
    "    nonzero_elems = np.nonzero(first_col)\n",
    "    # if there are no nonzero rows, end\n",
    "    if nonzero_elems[0].size == 0:\n",
    "        return False\n",
    "    # if the first row is not nonzero, swap\n",
    "    if nonzero_elems[0][0] != 0:\n",
    "        mat[[0, nonzero_elems[0][0]], :] = mat[[nonzero_elems[0][0], 0], :]\n",
    "        permutation[[0, nonzero_elems[0][0]], :] = permutation[[nonzero_elems[0][0], 0], :]\n",
    "    # else the matrix is good, all non zero\n",
    "    return True"
   ]
  },
  {
   "cell_type": "code",
   "execution_count": 3,
   "id": "d5a79612",
   "metadata": {},
   "outputs": [],
   "source": [
    "def recursive(mat, orig_shape, permutation):\n",
    "    if (mat.shape == (1, 1)):\n",
    "        l = np.zeros(orig_shape[0]) # n-vector\n",
    "        l[-1] = 1\n",
    "        l = np.transpose([l])\n",
    "        u = np.zeros(orig_shape[1]) # m-vector\n",
    "        u[-1] = mat[0, 0]\n",
    "        return l, u\n",
    "    \n",
    "    row_vector = mat[0, :]\n",
    "    column_vector = None\n",
    "    \n",
    "    # If we couldn't row swap, it's the final recursive step\n",
    "    if not row_swap(mat, permutation):\n",
    "        arr = np.zeros(mat.shape[0])\n",
    "        arr[0] = 1\n",
    "        column_vector = np.transpose([arr])\n",
    "    else:\n",
    "        column_vector = mat[:, 0] / row_vector[0, 0]\n",
    "    \n",
    "    remainder_matrix = mat - column_vector @ row_vector\n",
    "    \n",
    "    shape = column_vector.shape\n",
    "    padding_dim = orig_shape[0] - shape[0]\n",
    "    \n",
    "    padded_column = np.pad(column_vector, [ (padding_dim, 0), (0, 0) ], mode='constant')\n",
    "    padded_row    = np.pad(row_vector,    [ (0, 0), (padding_dim, 0) ], mode='constant')\n",
    "    \n",
    "    lower, upper = padded_column, padded_row\n",
    "    \n",
    "    # if the remainder matrix is not all zeros\n",
    "    if (np.any(remainder_matrix)):\n",
    "        truncated_remainder = remainder_matrix[1:,1:]\n",
    "        l, u = recursive(truncated_remainder, orig_shape, permutation)\n",
    "        lower = np.hstack((lower, l))\n",
    "        upper = np.vstack((upper, u))\n",
    "        \n",
    "    \n",
    "    return lower, upper"
   ]
  },
  {
   "cell_type": "code",
   "execution_count": 4,
   "id": "a4a0b81c",
   "metadata": {},
   "outputs": [],
   "source": [
    "def decompose(matrix):\n",
    "    mat = matrix.copy()\n",
    "    permutation = np.identity(mat.shape[0])\n",
    "    lower, upper = recursive(mat, mat.shape, permutation)\n",
    "    return permutation, lower, upper"
   ]
  },
  {
   "cell_type": "code",
   "execution_count": 11,
   "id": "cb69e6cc",
   "metadata": {},
   "outputs": [],
   "source": [
    "# matrix = np.matrix('0 -2 -3; 4 -3 -4; -6 7 14')\n",
    "# print(\"original\")\n",
    "# print(matrix)\n",
    "# perm, lower, upper = decompose(matrix)\n",
    "# print(\"lower\")\n",
    "# print(lower)\n",
    "# print(\"upper\")\n",
    "# print(upper)\n",
    "# print(\"perm\")\n",
    "# print(perm)\n",
    "# print(\"check\")\n",
    "# mult = perm @ lower @ upper\n",
    "# print(mult)\n",
    "# print(np.array_equal(mult, matrix))"
   ]
  },
  {
   "cell_type": "code",
   "execution_count": 6,
   "id": "cff74ef0",
   "metadata": {},
   "outputs": [],
   "source": [
    "def test(matrix):\n",
    "    print(\"original\")\n",
    "    print(matrix)\n",
    "    perm, lower, upper = decompose(matrix)\n",
    "    print(\"lower\")\n",
    "    print(lower)\n",
    "    print(\"upper\")\n",
    "    print(upper)\n",
    "    print(\"perm\")\n",
    "    print(perm.astype(int))\n",
    "    mult = perm @ lower @ upper\n",
    "    print(\"check\")\n",
    "    print(mult.astype(int))\n",
    "    print(\">>>>\", np.array_equal(mult, matrix))\n",
    "    return \"-\"*20"
   ]
  },
  {
   "cell_type": "code",
   "execution_count": 10,
   "id": "91d6c8d4",
   "metadata": {},
   "outputs": [],
   "source": [
    "# print(test(np.matrix('0 -2 -3; 4 -3 -4; -6 7 14')))\n",
    "# print(test(np.matrix('-2 1 3; -4 4 1')))\n",
    "# print(test(np.matrix('-2 1; 4 3; 8 6')))\n",
    "# print(test(np.matrix('-2 2 3; -4 4 1')))\n",
    "# print(test(np.matrix('4 2 3; -4 4 1')))\n",
    "# print(test(np.matrix('0 43 45 514; 0 94 5 5; 2 5 5 3; 3 4 5 3')))"
   ]
  },
  {
   "cell_type": "code",
   "execution_count": 8,
   "id": "2b25fcf7",
   "metadata": {},
   "outputs": [
    {
     "name": "stdout",
     "output_type": "stream",
     "text": [
      "original\n",
      "[[ 2  4  2  0]\n",
      " [ 1  1 -1 -2]\n",
      " [-2 -2  3  4]\n",
      " [ 3  7  5  2]]\n",
      "lower\n",
      "[[ 1.00  0.00  0.00]\n",
      " [ 0.50  1.00  0.00]\n",
      " [-1.00 -2.00  1.00]\n",
      " [ 1.50 -1.00  0.00]]\n",
      "upper\n",
      "[[ 2.00  4.00  2.00  0.00]\n",
      " [ 0.00 -1.00 -2.00 -2.00]\n",
      " [ 0.00  0.00  1.00  0.00]]\n",
      "perm\n",
      "[[1 0 0 0]\n",
      " [0 1 0 0]\n",
      " [0 0 1 0]\n",
      " [0 0 0 1]]\n",
      "check\n",
      "[[ 2  4  2  0]\n",
      " [ 1  1 -1 -2]\n",
      " [-2 -2  3  4]\n",
      " [ 3  7  5  2]]\n",
      ">>>> True\n",
      "--------------------\n"
     ]
    }
   ],
   "source": [
    "print(test(np.matrix('2 4 2 0; 1 1 -1 -2; -2 -2 3 4; 3 7 5 2')))"
   ]
  }
 ],
 "metadata": {
  "kernelspec": {
   "display_name": "Python 3 (ipykernel)",
   "language": "python",
   "name": "python3"
  },
  "language_info": {
   "codemirror_mode": {
    "name": "ipython",
    "version": 3
   },
   "file_extension": ".py",
   "mimetype": "text/x-python",
   "name": "python",
   "nbconvert_exporter": "python",
   "pygments_lexer": "ipython3",
   "version": "3.9.13"
  }
 },
 "nbformat": 4,
 "nbformat_minor": 5
}
